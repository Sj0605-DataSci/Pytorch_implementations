{
 "cells": [
  {
   "cell_type": "code",
   "execution_count": 1,
   "metadata": {},
   "outputs": [
    {
     "name": "stdout",
     "output_type": "stream",
     "text": [
      "Yo!!\n"
     ]
    }
   ],
   "source": [
    "##LoRA implementation with Pytorch"
   ]
  },
  {
   "cell_type": "code",
   "execution_count": 1,
   "metadata": {},
   "outputs": [],
   "source": [
    "import torch.nn as nn\n",
    "import torch"
   ]
  },
  {
   "cell_type": "code",
   "execution_count": null,
   "metadata": {},
   "outputs": [],
   "source": [
    "## Define LoRA\n",
    "\n",
    "class LoRAParametrization(nn.Module):\n",
    "    def __init__(self, features_in, features_out,rank=1,alpha=1,device=\"cpu\"):\n",
    "        super().__init__()\n",
    "\n",
    "        self.Lora_A = nn.Parameter(torch.zeros((rank,features_out)).to(device))\n",
    "        self.Lora_B = nn.Parameter(torch.zeros((features_in,rank)).to(device))\n",
    "        nn.init.normal_(self.Lora_A,mean=0,std=1)\n",
    "\n",
    "        self.scale = alpha/rank\n",
    "        self.enabled = True\n",
    "\n",
    "    def forward(self,original_weights):\n",
    "        if self.enabled:\n",
    "            return original_weights + torch.matmul(self.Lora_B,self.Lora_A).view(original_weights.shape)* self.scale\n",
    "        else:\n",
    "            return original_weights    "
   ]
  },
  {
   "cell_type": "code",
   "execution_count": null,
   "metadata": {},
   "outputs": [],
   "source": [
    "## How to add in any network in pytorch \n",
    "import torch.nn.utils.parametrize as parametrize\n",
    "\n",
    "def linear_layer_parameterisation(layer,device=\"cpu\",rank=1,lora_alpha=1):\n",
    "    features_in, features_out = layer.weight.shape\n",
    "    return LoRAParametrization(features_in,features_out,rank=rank,alpha=lora_alpha,device=device)\n",
    "\n",
    "parametrize.register_parametrization(\"your layer\", \"weight\",linear_layer_parameterisation(\"your layer\",device=\"cpu\"))\n",
    "parametrize.register_parametrization(\"your layer n \", \"weight\",linear_layer_parameterisation(\"your layer\",device=\"cpu\"))\n",
    "\n",
    "def enable_disable_Lora(enabled=True):\n",
    "    for layer in [\"your layer1\",\"your layer n\"]:\n",
    "        layer.parametrizations[\"weight\"][0].enabled = enabled"
   ]
  },
  {
   "cell_type": "code",
   "execution_count": null,
   "metadata": {},
   "outputs": [],
   "source": [
    "### For testing you can create very normal neural network which might be overfiiting for one class, now this upper LoRa will help us to finetune our network on that class"
   ]
  }
 ],
 "metadata": {
  "kernelspec": {
   "display_name": "chatbot",
   "language": "python",
   "name": "python3"
  },
  "language_info": {
   "codemirror_mode": {
    "name": "ipython",
    "version": 3
   },
   "file_extension": ".py",
   "mimetype": "text/x-python",
   "name": "python",
   "nbconvert_exporter": "python",
   "pygments_lexer": "ipython3",
   "version": "3.9.19"
  }
 },
 "nbformat": 4,
 "nbformat_minor": 2
}
